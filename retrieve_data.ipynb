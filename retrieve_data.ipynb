{
 "cells": [
  {
   "cell_type": "markdown",
   "metadata": {},
   "source": [
    "### Import Required Libraries and Set Up Environment Variables"
   ]
  },
  {
   "cell_type": "code",
   "execution_count": 44,
   "metadata": {},
   "outputs": [
    {
     "name": "stdout",
     "output_type": "stream",
     "text": [
      "FhFvKGUQ7tNGtdldINWxXubqJ8yrhkF3lHgIFMZt\n"
     ]
    }
   ],
   "source": [
    "# Dependencies\n",
    "import requests\n",
    "import time\n",
    "from dotenv import load_dotenv\n",
    "import os\n",
    "import pandas as pd\n",
    "import json\n",
    "from datetime import datetime\n",
    "## Load the NASA_API_KEY from the env file\n",
    "load_dotenv()\n",
    "NASA_API_KEY = os.getenv('NASA_API_KEY')\n",
    "print(NASA_API_KEY)"
   ]
  },
  {
   "cell_type": "markdown",
   "metadata": {},
   "source": [
    "### CME Data"
   ]
  },
  {
   "cell_type": "code",
   "execution_count": 45,
   "metadata": {},
   "outputs": [],
   "source": [
    "# Set the base URL to NASA's DONKI API:\n",
    "base_url = \"https://api.nasa.gov/DONKI/\"\n",
    "\n",
    "# Set the specifier for CMEs:\n",
    "specifier = \"CME\"\n",
    "\n",
    "# Search for CMEs published between a begin and end date\n",
    "startDate = \"2013-05-01\"\n",
    "endDate   = \"2024-05-01\"\n",
    "\n",
    "# Build URL for CME\n",
    "query_url_CME = f\"{base_url}{specifier}?startDate={startDate}&endDate={endDate}&api_key={NASA_API_KEY}\"\n"
   ]
  },
  {
   "cell_type": "code",
   "execution_count": 46,
   "metadata": {},
   "outputs": [],
   "source": [
    "# Make a \"GET\" request for the CME URL and store it in a variable named cme_response\n",
    "cme_response = requests.get(query_url_CME)"
   ]
  },
  {
   "cell_type": "code",
   "execution_count": 47,
   "metadata": {},
   "outputs": [],
   "source": [
    "# Convert the response variable to json and store it as a variable named cme_json\n",
    "# Check if the request was successful\n",
    "\n",
    "cme_json = cme_response.json()  # Convert the response to JSON\n",
    "    "
   ]
  },
  {
   "cell_type": "code",
   "execution_count": 48,
   "metadata": {
    "scrolled": true
   },
   "outputs": [
    {
     "name": "stdout",
     "output_type": "stream",
     "text": [
      "{\n",
      "    \"activityID\": \"2013-05-01T03:12:00-CME-001\",\n",
      "    \"catalog\": \"M2M_CATALOG\",\n",
      "    \"startTime\": \"2013-05-01T03:12Z\",\n",
      "    \"instruments\": [\n",
      "        {\n",
      "            \"displayName\": \"SOHO: LASCO/C2\"\n",
      "        },\n",
      "        {\n",
      "            \"displayName\": \"SOHO: LASCO/C3\"\n",
      "        },\n",
      "        {\n",
      "            \"displayName\": \"STEREO A: SECCHI/COR2\"\n",
      "        },\n",
      "        {\n",
      "            \"displayName\": \"STEREO B: SECCHI/COR2\"\n",
      "        }\n",
      "    ],\n",
      "    \"sourceLocation\": \"\",\n",
      "    \"activeRegionNum\": null,\n",
      "    \"note\": \"\",\n",
      "    \"submissionTime\": \"2013-08-07T16:54Z\",\n",
      "    \"versionId\": 1,\n",
      "    \"link\": \"https://webtools.ccmc.gsfc.nasa.gov/DONKI/view/CME/2349/-1\",\n",
      "    \"cmeAnalyses\": [\n",
      "        {\n",
      "            \"isMostAccurate\": true,\n",
      "            \"time21_5\": \"2013-05-01T07:07Z\",\n",
      "            \"latitude\": 12.0,\n",
      "            \"longitude\": -120.0,\n",
      "            \"halfAngle\": 36.0,\n",
      "            \"speed\": 860.0,\n",
      "            \"type\": \"C\",\n",
      "            \"featureCode\": \"null\",\n",
      "            \"imageType\": null,\n",
      "            \"measurementTechnique\": \"null\",\n",
      "            \"note\": \"\",\n",
      "            \"levelOfData\": 0,\n",
      "            \"tilt\": null,\n",
      "            \"minorHalfWidth\": null,\n",
      "            \"speedMeasuredAtHeight\": null,\n",
      "            \"submissionTime\": \"2013-08-07T16:54Z\",\n",
      "            \"link\": \"https://webtools.ccmc.gsfc.nasa.gov/DONKI/view/CMEAnalysis/2350/-1\",\n",
      "            \"enlilList\": [\n",
      "                {\n",
      "                    \"modelCompletionTime\": \"2013-05-01T08:32Z\",\n",
      "                    \"au\": 2.0,\n",
      "                    \"estimatedShockArrivalTime\": null,\n",
      "                    \"estimatedDuration\": null,\n",
      "                    \"rmin_re\": null,\n",
      "                    \"kp_18\": null,\n",
      "                    \"kp_90\": null,\n",
      "                    \"kp_135\": null,\n",
      "                    \"kp_180\": null,\n",
      "                    \"isEarthGB\": false,\n",
      "                    \"link\": \"https://webtools.ccmc.gsfc.nasa.gov/DONKI/view/WSA-ENLIL/2348/-1\",\n",
      "                    \"impactList\": [\n",
      "                        {\n",
      "                            \"isGlancingBlow\": false,\n",
      "                            \"location\": \"STEREO B\",\n",
      "                            \"arrivalTime\": \"2013-05-04T06:16Z\"\n",
      "                        }\n",
      "                    ],\n",
      "                    \"cmeIDs\": [\n",
      "                        \"2013-05-01T03:12:00-CME-001\"\n",
      "                    ]\n",
      "                }\n",
      "            ]\n",
      "        }\n",
      "    ],\n",
      "    \"linkedEvents\": [\n",
      "        {\n",
      "            \"activityID\": \"2013-05-04T04:52:00-IPS-001\"\n",
      "        }\n",
      "    ]\n",
      "}\n"
     ]
    }
   ],
   "source": [
    "# Preview the first result in JSON format\n",
    "# Use json.dumps with argument indent=4 to format data\n",
    "print(json.dumps(cme_json[0], indent=4))"
   ]
  },
  {
   "cell_type": "code",
   "execution_count": 49,
   "metadata": {},
   "outputs": [],
   "source": [
    "# Convert cme_json to a Pandas DataFrame \n",
    "\n",
    "# Keep only the columns: activityID, startTime, linkedEvents\n",
    "cme_df = pd.json_normalize(cme_json)"
   ]
  },
  {
   "cell_type": "code",
   "execution_count": 50,
   "metadata": {},
   "outputs": [],
   "source": [
    "# Notice that the linkedEvents column allows us to identify the corresponding GST\n",
    "# Remove rows with missing 'linkedEvents' since we won't be able to assign these to GSTs\n",
    "cme_df = cme_df.dropna(subset=['linkedEvents'])"
   ]
  },
  {
   "cell_type": "code",
   "execution_count": 51,
   "metadata": {},
   "outputs": [
    {
     "name": "stdout",
     "output_type": "stream",
     "text": [
      "                    activityID          startTime  \\\n",
      "0  2013-05-01T03:12:00-CME-001  2013-05-01T03:12Z   \n",
      "1  2013-05-03T22:36:00-CME-001  2013-05-03T22:36Z   \n",
      "2  2013-05-09T19:29:00-CME-001  2013-05-09T19:29Z   \n",
      "3  2013-05-13T02:54:00-CME-001  2013-05-13T02:54Z   \n",
      "4  2013-05-13T02:54:00-CME-001  2013-05-13T02:54Z   \n",
      "\n",
      "                                     linkedEvent  \n",
      "0  {'activityID': '2013-05-04T04:52:00-IPS-001'}  \n",
      "1  {'activityID': '2013-05-07T04:37:00-IPS-001'}  \n",
      "2  {'activityID': '2013-05-12T23:30:00-IPS-001'}  \n",
      "3  {'activityID': '2013-05-13T01:53:00-FLR-001'}  \n",
      "4  {'activityID': '2013-05-13T04:12:00-SEP-001'}  \n"
     ]
    }
   ],
   "source": [
    "# Notice that the linkedEvents sometimes contains multiple events per row\n",
    "# Write a nested for loop that iterates first over each row in the cme DataFrame (using the index)\n",
    "# and then iterates over the values in 'linkedEvents' \n",
    "# and adds the elements individually to a list of dictionaries where each row is one element \n",
    "\n",
    "# Initialize an empty list to store the expanded rows\n",
    "expanded_rows = []\n",
    "\n",
    "# Iterate over each index in the DataFrame\n",
    "\n",
    "    # Iterate over each dictionary in the list\n",
    "    \n",
    "        # Append a new dictionary to the expanded_rows list for each dictionary item and corresponding 'activityID' and 'startTime' value\n",
    "      \n",
    "# Create a new DataFrame from the expanded rows\n",
    "for i in cme_df.index:\n",
    "    # Get the current row's linkedEvents\n",
    "    linkedEvents = cme_df.at[i, 'linkedEvents']\n",
    "    \n",
    "    # Ensure linkedEvents is a list before iterating\n",
    "    if isinstance(linkedEvents, list):\n",
    "        # Iterate over each dictionary in the list\n",
    "        for event in linkedEvents:\n",
    "            # Append a new dictionary to the expanded_rows list for each event\n",
    "            expanded_rows.append({\n",
    "                'activityID': cme_df.at[i, 'activityID'],\n",
    "                'startTime': cme_df.at[i, 'startTime'],\n",
    "                'linkedEvent': event  # Include the individual linked event\n",
    "            })\n",
    "        # Create a new DataFrame from the expanded rows\n",
    "cme_expanded_df = pd.DataFrame(expanded_rows)\n",
    "\n",
    "# Optional: Print the first few rows of the expanded DataFrame\n",
    "print(cme_expanded_df.head())    "
   ]
  },
  {
   "cell_type": "code",
   "execution_count": 52,
   "metadata": {},
   "outputs": [],
   "source": [
    "# Create a function called extract_activityID_from_dict that takes a dict as input such as in linkedEvents\n",
    "# and verify below that it works as expected using one row from linkedEvents as an example\n",
    "# Be sure to use a try and except block to handle errors\n",
    "\n",
    "        # Log the error or print it for debugging\n",
    "\n",
    "\n",
    "def extract_activityID_from_dict(input_dict):\n",
    "    try:\n",
    "        # Attempt to return the 'activityID' from the dictionary\n",
    "        return input_dict['activityID']\n",
    "    except (KeyError, ValueError, TypeError) as e:\n",
    "        # Handle the error gracefully and log or print it for debugging\n",
    "        print(f\"Error extracting activityID: {e}\")  # Log the error for debugging\n",
    "        return None  # Return None if there's an error\n"
   ]
  },
  {
   "cell_type": "code",
   "execution_count": 53,
   "metadata": {},
   "outputs": [
    {
     "name": "stdout",
     "output_type": "stream",
     "text": [
      "                                     linkedEvent               GST_ActivityID\n",
      "0  {'activityID': '2013-05-04T04:52:00-IPS-001'}  2013-05-04T04:52:00-IPS-001\n",
      "1  {'activityID': '2013-05-07T04:37:00-IPS-001'}  2013-05-07T04:37:00-IPS-001\n",
      "2  {'activityID': '2013-05-12T23:30:00-IPS-001'}  2013-05-12T23:30:00-IPS-001\n",
      "3  {'activityID': '2013-05-13T01:53:00-FLR-001'}  2013-05-13T01:53:00-FLR-001\n",
      "4  {'activityID': '2013-05-13T04:12:00-SEP-001'}  2013-05-13T04:12:00-SEP-001\n"
     ]
    }
   ],
   "source": [
    "# Apply this function to each row in the 'linkedEvents' column (you can use apply() and a lambda function)\n",
    "# and create a new column called 'GST_ActivityID' using loc indexer:\n",
    "# Apply the function to create a new column for GST Activity IDs\n",
    "cme_expanded_df['GST_ActivityID'] = cme_expanded_df['linkedEvent'].apply(lambda x: extract_activityID_from_dict(x))\n",
    "\n",
    "# Drop rows with missing GST_ActivityID values\n",
    "cme_expanded_df.dropna(subset=['GST_ActivityID'], inplace=True)\n",
    "\n",
    "# Optionally, check the first few rows to verify the new column\n",
    "print(cme_expanded_df[['linkedEvent', 'GST_ActivityID']].head())"
   ]
  },
  {
   "cell_type": "code",
   "execution_count": 54,
   "metadata": {},
   "outputs": [],
   "source": [
    "# Remove rows with missing GST_ActivityID, since we can't assign them to GSTs:\n",
    "cme_expanded_df.dropna(subset=['GST_ActivityID'], inplace=True)"
   ]
  },
  {
   "cell_type": "code",
   "execution_count": 55,
   "metadata": {},
   "outputs": [
    {
     "name": "stdout",
     "output_type": "stream",
     "text": [
      "activityID        object\n",
      "startTime         object\n",
      "linkedEvent       object\n",
      "GST_ActivityID    object\n",
      "dtype: object\n"
     ]
    }
   ],
   "source": [
    "# print out the datatype of each column in this DataFrame:\n",
    "print(cme_expanded_df.dtypes)"
   ]
  },
  {
   "cell_type": "code",
   "execution_count": 56,
   "metadata": {},
   "outputs": [
    {
     "name": "stdout",
     "output_type": "stream",
     "text": [
      "cmeID                          object\n",
      "startTime_CME     datetime64[ns, UTC]\n",
      "GST_ActivityID                 object\n",
      "dtype: object\n",
      "                         cmeID             startTime_CME  \\\n",
      "0  2013-05-01T03:12:00-CME-001 2013-05-01 03:12:00+00:00   \n",
      "1  2013-05-03T22:36:00-CME-001 2013-05-03 22:36:00+00:00   \n",
      "2  2013-05-09T19:29:00-CME-001 2013-05-09 19:29:00+00:00   \n",
      "3  2013-05-13T02:54:00-CME-001 2013-05-13 02:54:00+00:00   \n",
      "4  2013-05-13T02:54:00-CME-001 2013-05-13 02:54:00+00:00   \n",
      "\n",
      "                GST_ActivityID  \n",
      "0  2013-05-04T04:52:00-IPS-001  \n",
      "1  2013-05-07T04:37:00-IPS-001  \n",
      "2  2013-05-12T23:30:00-IPS-001  \n",
      "3  2013-05-13T01:53:00-FLR-001  \n",
      "4  2013-05-13T04:12:00-SEP-001  \n"
     ]
    }
   ],
   "source": [
    "# Convert the 'GST_ActivityID' column to string format \n",
    "\n",
    "# Convert startTime to datetime format  \n",
    "\n",
    "# Rename startTime to startTime_CME and activityID to cmeID\n",
    "\n",
    "# Drop linkedEvents\n",
    "\n",
    "# Verify that all steps were executed correctly\n",
    "# Convert the 'GST_ActivityID' column to string format\n",
    "cme_expanded_df['GST_ActivityID'] = cme_expanded_df['GST_ActivityID'].astype(str)\n",
    "\n",
    "# Convert startTime to datetime format\n",
    "cme_expanded_df['startTime'] = pd.to_datetime(cme_expanded_df['startTime'])\n",
    "\n",
    "# Rename startTime to startTime_CME and activityID to cmeID\n",
    "cme_expanded_df.rename(columns={'startTime': 'startTime_CME', 'activityID': 'cmeID'}, inplace=True)\n",
    "\n",
    "# Drop the 'linkedEvents' column\n",
    "cme_expanded_df.drop(columns=['linkedEvent'], inplace=True)\n",
    "\n",
    "# Verify that all steps were executed correctly\n",
    "print(cme_expanded_df.dtypes)  # Check the data types of the columns\n",
    "print(cme_expanded_df.head())   # Preview the first few rows to confirm changes"
   ]
  },
  {
   "cell_type": "code",
   "execution_count": 57,
   "metadata": {},
   "outputs": [
    {
     "name": "stdout",
     "output_type": "stream",
     "text": [
      "Number of rows after filtering for GSTs: 61\n",
      "                           cmeID             startTime_CME  \\\n",
      "21   2013-06-02T20:24:00-CME-001 2013-06-02 20:24:00+00:00   \n",
      "48   2013-09-29T22:40:00-CME-001 2013-09-29 22:40:00+00:00   \n",
      "90   2013-12-04T23:12:00-CME-001 2013-12-04 23:12:00+00:00   \n",
      "148  2014-02-16T14:15:00-CME-001 2014-02-16 14:15:00+00:00   \n",
      "151  2014-02-18T01:25:00-CME-001 2014-02-18 01:25:00+00:00   \n",
      "\n",
      "                  GST_ActivityID  \n",
      "21   2013-06-07T03:00:00-GST-001  \n",
      "48   2013-10-02T03:00:00-GST-001  \n",
      "90   2013-12-08T00:00:00-GST-001  \n",
      "148  2014-02-19T03:00:00-GST-001  \n",
      "151  2014-02-20T03:00:00-GST-001  \n"
     ]
    }
   ],
   "source": [
    "# Filter the DataFrame to keep only rows where 'GST_ActivityID' contains 'GST'\n",
    "cme_filtered_df = cme_expanded_df[cme_expanded_df['GST_ActivityID'].str.contains('GST', na=False)]\n",
    "\n",
    "# Optionally, print the shape of the filtered DataFrame to see how many rows are left\n",
    "print(\"Number of rows after filtering for GSTs:\", cme_filtered_df.shape[0])\n",
    "\n",
    "# Preview the first few rows of the filtered DataFrame\n",
    "print(cme_filtered_df.head())"
   ]
  },
  {
   "cell_type": "markdown",
   "metadata": {},
   "source": [
    "### GST Data"
   ]
  },
  {
   "cell_type": "code",
   "execution_count": 58,
   "metadata": {},
   "outputs": [
    {
     "name": "stdout",
     "output_type": "stream",
     "text": [
      "Query URL for GST: https://api.nasa.gov/DONKI/GST?startDate=2013-05-01&endDate=2024-05-01&api_key=FhFvKGUQ7tNGtdldINWxXubqJ8yrhkF3lHgIFMZt\n"
     ]
    }
   ],
   "source": [
    "# Set the base URL to NASA's DONKI API:\n",
    "base_url = \"https://api.nasa.gov/DONKI/\"\n",
    "\n",
    "# Set the specifier for Geomagnetic Storms (GST):\n",
    "GST = \"GST\"\n",
    "\n",
    "# Search for GSTs between a begin and end date\n",
    "startDate = \"2013-05-01\"\n",
    "endDate   = \"2024-05-01\"\n",
    "\n",
    "# Build URL for GST\n",
    "query_url_GST = f\"{base_url}{GST}?startDate={startDate}&endDate={endDate}&api_key={NASA_API_KEY}\"\n",
    "print(\"Query URL for GST:\", query_url_GST)"
   ]
  },
  {
   "cell_type": "code",
   "execution_count": 59,
   "metadata": {},
   "outputs": [],
   "source": [
    "# Make a \"GET\" request for the GST URL and store it in a variable named gst_response\n",
    "gst_response = requests.get(query_url_GST)"
   ]
  },
  {
   "cell_type": "code",
   "execution_count": 60,
   "metadata": {},
   "outputs": [
    {
     "name": "stdout",
     "output_type": "stream",
     "text": [
      "{\n",
      "    \"gstID\": \"2013-06-01T01:00:00-GST-001\",\n",
      "    \"startTime\": \"2013-06-01T01:00Z\",\n",
      "    \"allKpIndex\": [\n",
      "        {\n",
      "            \"observedTime\": \"2013-06-01T01:00Z\",\n",
      "            \"kpIndex\": 6.0,\n",
      "            \"source\": \"NOAA\"\n",
      "        }\n",
      "    ],\n",
      "    \"link\": \"https://webtools.ccmc.gsfc.nasa.gov/DONKI/view/GST/326/-1\",\n",
      "    \"linkedEvents\": [\n",
      "        {\n",
      "            \"activityID\": \"2013-05-31T15:45:00-HSS-001\"\n",
      "        }\n",
      "    ],\n",
      "    \"submissionTime\": \"2013-07-15T19:26Z\",\n",
      "    \"versionId\": 1\n",
      "}\n"
     ]
    }
   ],
   "source": [
    "# Convert the response variable to json and store it as a variable named gst_json\n",
    "\n",
    "# Preview the first result in JSON format\n",
    "# Use json.dumps with argument indent=4 to format data\n",
    "gst_json = gst_response.json()  # Convert the response to JSON\n",
    "print(json.dumps(gst_json[0], indent=4))  # Print the first result with indentation"
   ]
  },
  {
   "cell_type": "code",
   "execution_count": 62,
   "metadata": {},
   "outputs": [
    {
     "name": "stdout",
     "output_type": "stream",
     "text": [
      "                         gstID          startTime  \\\n",
      "0  2013-06-01T01:00:00-GST-001  2013-06-01T01:00Z   \n",
      "1  2013-06-07T03:00:00-GST-001  2013-06-07T03:00Z   \n",
      "2  2013-06-29T03:00:00-GST-001  2013-06-29T03:00Z   \n",
      "3  2013-10-02T03:00:00-GST-001  2013-10-02T03:00Z   \n",
      "4  2013-12-08T00:00:00-GST-001  2013-12-08T00:00Z   \n",
      "\n",
      "                                          allKpIndex  \\\n",
      "0  [{'observedTime': '2013-06-01T01:00Z', 'kpInde...   \n",
      "1  [{'observedTime': '2013-06-07T03:00Z', 'kpInde...   \n",
      "2  [{'observedTime': '2013-06-29T03:00Z', 'kpInde...   \n",
      "3  [{'observedTime': '2013-10-02T06:00Z', 'kpInde...   \n",
      "4  [{'observedTime': '2013-12-08T03:00Z', 'kpInde...   \n",
      "\n",
      "                                                link  \\\n",
      "0  https://webtools.ccmc.gsfc.nasa.gov/DONKI/view...   \n",
      "1  https://webtools.ccmc.gsfc.nasa.gov/DONKI/view...   \n",
      "2  https://webtools.ccmc.gsfc.nasa.gov/DONKI/view...   \n",
      "3  https://webtools.ccmc.gsfc.nasa.gov/DONKI/view...   \n",
      "4  https://webtools.ccmc.gsfc.nasa.gov/DONKI/view...   \n",
      "\n",
      "                                        linkedEvents     submissionTime  \\\n",
      "0    [{'activityID': '2013-05-31T15:45:00-HSS-001'}]  2013-07-15T19:26Z   \n",
      "1    [{'activityID': '2013-06-02T20:24:00-CME-001'}]  2013-07-15T19:41Z   \n",
      "2                                               None  2013-09-25T04:48Z   \n",
      "3  [{'activityID': '2013-09-29T22:40:00-CME-001'}...  2013-10-02T13:23Z   \n",
      "4  [{'activityID': '2013-12-04T23:12:00-CME-001'}...  2013-12-08T03:42Z   \n",
      "\n",
      "   versionId  \n",
      "0          1  \n",
      "1          1  \n",
      "2          2  \n",
      "3          1  \n",
      "4          1  \n"
     ]
    },
    {
     "ename": "KeyError",
     "evalue": "\"['activityID'] not in index\"",
     "output_type": "error",
     "traceback": [
      "\u001b[1;31m---------------------------------------------------------------------------\u001b[0m",
      "\u001b[1;31mKeyError\u001b[0m                                  Traceback (most recent call last)",
      "Cell \u001b[1;32mIn[62], line 5\u001b[0m\n\u001b[0;32m      3\u001b[0m \u001b[38;5;28mprint\u001b[39m(gst_df\u001b[38;5;241m.\u001b[39mhead())\n\u001b[0;32m      4\u001b[0m \u001b[38;5;66;03m# Keep only the columns: activityID, startTime, linkedEvents\u001b[39;00m\n\u001b[1;32m----> 5\u001b[0m gst_df \u001b[38;5;241m=\u001b[39m \u001b[43mgst_df\u001b[49m\u001b[43m[\u001b[49m\u001b[43m[\u001b[49m\u001b[38;5;124;43m'\u001b[39;49m\u001b[38;5;124;43mactivityID\u001b[39;49m\u001b[38;5;124;43m'\u001b[39;49m\u001b[43m,\u001b[49m\u001b[43m \u001b[49m\u001b[38;5;124;43m'\u001b[39;49m\u001b[38;5;124;43mstartTime\u001b[39;49m\u001b[38;5;124;43m'\u001b[39;49m\u001b[43m,\u001b[49m\u001b[43m \u001b[49m\u001b[38;5;124;43m'\u001b[39;49m\u001b[38;5;124;43mlinkedEvents\u001b[39;49m\u001b[38;5;124;43m'\u001b[39;49m\u001b[43m]\u001b[49m\u001b[43m]\u001b[49m\n",
      "File \u001b[1;32mc:\\Users\\siddi\\anaconda3\\envs\\dev\\lib\\site-packages\\pandas\\core\\frame.py:4108\u001b[0m, in \u001b[0;36mDataFrame.__getitem__\u001b[1;34m(self, key)\u001b[0m\n\u001b[0;32m   4106\u001b[0m     \u001b[38;5;28;01mif\u001b[39;00m is_iterator(key):\n\u001b[0;32m   4107\u001b[0m         key \u001b[38;5;241m=\u001b[39m \u001b[38;5;28mlist\u001b[39m(key)\n\u001b[1;32m-> 4108\u001b[0m     indexer \u001b[38;5;241m=\u001b[39m \u001b[38;5;28;43mself\u001b[39;49m\u001b[38;5;241;43m.\u001b[39;49m\u001b[43mcolumns\u001b[49m\u001b[38;5;241;43m.\u001b[39;49m\u001b[43m_get_indexer_strict\u001b[49m\u001b[43m(\u001b[49m\u001b[43mkey\u001b[49m\u001b[43m,\u001b[49m\u001b[43m \u001b[49m\u001b[38;5;124;43m\"\u001b[39;49m\u001b[38;5;124;43mcolumns\u001b[39;49m\u001b[38;5;124;43m\"\u001b[39;49m\u001b[43m)\u001b[49m[\u001b[38;5;241m1\u001b[39m]\n\u001b[0;32m   4110\u001b[0m \u001b[38;5;66;03m# take() does not accept boolean indexers\u001b[39;00m\n\u001b[0;32m   4111\u001b[0m \u001b[38;5;28;01mif\u001b[39;00m \u001b[38;5;28mgetattr\u001b[39m(indexer, \u001b[38;5;124m\"\u001b[39m\u001b[38;5;124mdtype\u001b[39m\u001b[38;5;124m\"\u001b[39m, \u001b[38;5;28;01mNone\u001b[39;00m) \u001b[38;5;241m==\u001b[39m \u001b[38;5;28mbool\u001b[39m:\n",
      "File \u001b[1;32mc:\\Users\\siddi\\anaconda3\\envs\\dev\\lib\\site-packages\\pandas\\core\\indexes\\base.py:6200\u001b[0m, in \u001b[0;36mIndex._get_indexer_strict\u001b[1;34m(self, key, axis_name)\u001b[0m\n\u001b[0;32m   6197\u001b[0m \u001b[38;5;28;01melse\u001b[39;00m:\n\u001b[0;32m   6198\u001b[0m     keyarr, indexer, new_indexer \u001b[38;5;241m=\u001b[39m \u001b[38;5;28mself\u001b[39m\u001b[38;5;241m.\u001b[39m_reindex_non_unique(keyarr)\n\u001b[1;32m-> 6200\u001b[0m \u001b[38;5;28;43mself\u001b[39;49m\u001b[38;5;241;43m.\u001b[39;49m\u001b[43m_raise_if_missing\u001b[49m\u001b[43m(\u001b[49m\u001b[43mkeyarr\u001b[49m\u001b[43m,\u001b[49m\u001b[43m \u001b[49m\u001b[43mindexer\u001b[49m\u001b[43m,\u001b[49m\u001b[43m \u001b[49m\u001b[43maxis_name\u001b[49m\u001b[43m)\u001b[49m\n\u001b[0;32m   6202\u001b[0m keyarr \u001b[38;5;241m=\u001b[39m \u001b[38;5;28mself\u001b[39m\u001b[38;5;241m.\u001b[39mtake(indexer)\n\u001b[0;32m   6203\u001b[0m \u001b[38;5;28;01mif\u001b[39;00m \u001b[38;5;28misinstance\u001b[39m(key, Index):\n\u001b[0;32m   6204\u001b[0m     \u001b[38;5;66;03m# GH 42790 - Preserve name from an Index\u001b[39;00m\n",
      "File \u001b[1;32mc:\\Users\\siddi\\anaconda3\\envs\\dev\\lib\\site-packages\\pandas\\core\\indexes\\base.py:6252\u001b[0m, in \u001b[0;36mIndex._raise_if_missing\u001b[1;34m(self, key, indexer, axis_name)\u001b[0m\n\u001b[0;32m   6249\u001b[0m     \u001b[38;5;28;01mraise\u001b[39;00m \u001b[38;5;167;01mKeyError\u001b[39;00m(\u001b[38;5;124mf\u001b[39m\u001b[38;5;124m\"\u001b[39m\u001b[38;5;124mNone of [\u001b[39m\u001b[38;5;132;01m{\u001b[39;00mkey\u001b[38;5;132;01m}\u001b[39;00m\u001b[38;5;124m] are in the [\u001b[39m\u001b[38;5;132;01m{\u001b[39;00maxis_name\u001b[38;5;132;01m}\u001b[39;00m\u001b[38;5;124m]\u001b[39m\u001b[38;5;124m\"\u001b[39m)\n\u001b[0;32m   6251\u001b[0m not_found \u001b[38;5;241m=\u001b[39m \u001b[38;5;28mlist\u001b[39m(ensure_index(key)[missing_mask\u001b[38;5;241m.\u001b[39mnonzero()[\u001b[38;5;241m0\u001b[39m]]\u001b[38;5;241m.\u001b[39munique())\n\u001b[1;32m-> 6252\u001b[0m \u001b[38;5;28;01mraise\u001b[39;00m \u001b[38;5;167;01mKeyError\u001b[39;00m(\u001b[38;5;124mf\u001b[39m\u001b[38;5;124m\"\u001b[39m\u001b[38;5;132;01m{\u001b[39;00mnot_found\u001b[38;5;132;01m}\u001b[39;00m\u001b[38;5;124m not in index\u001b[39m\u001b[38;5;124m\"\u001b[39m)\n",
      "\u001b[1;31mKeyError\u001b[0m: \"['activityID'] not in index\""
     ]
    }
   ],
   "source": [
    "# Convert gst_json to a Pandas DataFrame  \n",
    "gst_df = pd.json_normalize(gst_json)\n",
    "print(gst_df.head())\n",
    "# Keep only the columns: activityID, startTime, linkedEvents\n",
    "gst_df = gst_df[['activityID', 'startTime', 'linkedEvents']]"
   ]
  },
  {
   "cell_type": "code",
   "execution_count": 63,
   "metadata": {},
   "outputs": [],
   "source": [
    "# Notice that the linkedEvents column allows us to identify the corresponding CME\n",
    "# Remove rows with missing 'linkedEvents' since we won't be able to assign these to CME\n",
    "gst_df = gst_df.dropna(subset=['linkedEvents'])"
   ]
  },
  {
   "cell_type": "code",
   "execution_count": 64,
   "metadata": {},
   "outputs": [],
   "source": [
    "# Explode the 'linkedEvents' column so that each event gets its own row\n",
    "gst_exploded_df = gst_df.explode('linkedEvents')\n",
    "\n",
    "# Reset the index of the exploded DataFrame\n",
    "gst_exploded_df.reset_index(drop=True, inplace=True)\n",
    "# Drop any rows with missing values in 'linkedEvents' (if any exist after explosion)\n",
    "gst_exploded_df.dropna(subset=['linkedEvents'], inplace=True)"
   ]
  },
  {
   "cell_type": "code",
   "execution_count": 65,
   "metadata": {},
   "outputs": [],
   "source": [
    "# Apply the extract_activityID_from_dict function to each row in the 'linkedEvents' column (you can use apply() and a lambda function)\n",
    "# and create a new column called 'CME_ActivityID' using loc indexer:\n",
    "gst_exploded_df['CME_ActivityID'] = gst_exploded_df['linkedEvents'].apply(lambda x: extract_activityID_from_dict(x))\n",
    "\n",
    "# Remove rows with missing CME_ActivityID, since we can't assign them to CMEs:\n",
    "gst_exploded_df.dropna(subset=['CME_ActivityID'], inplace=True)\n"
   ]
  },
  {
   "cell_type": "code",
   "execution_count": 66,
   "metadata": {},
   "outputs": [
    {
     "name": "stdout",
     "output_type": "stream",
     "text": [
      "gstID                          object\n",
      "startTime_GST     datetime64[ns, UTC]\n",
      "allKpIndex                     object\n",
      "link                           object\n",
      "submissionTime                 object\n",
      "versionId                       int64\n",
      "CME_ActivityID                 object\n",
      "dtype: object\n",
      "                         gstID             startTime_GST  \\\n",
      "0  2013-06-01T01:00:00-GST-001 2013-06-01 01:00:00+00:00   \n",
      "1  2013-06-07T03:00:00-GST-001 2013-06-07 03:00:00+00:00   \n",
      "2  2013-10-02T03:00:00-GST-001 2013-10-02 03:00:00+00:00   \n",
      "3  2013-10-02T03:00:00-GST-001 2013-10-02 03:00:00+00:00   \n",
      "4  2013-10-02T03:00:00-GST-001 2013-10-02 03:00:00+00:00   \n",
      "\n",
      "                                          allKpIndex  \\\n",
      "0  [{'observedTime': '2013-06-01T01:00Z', 'kpInde...   \n",
      "1  [{'observedTime': '2013-06-07T03:00Z', 'kpInde...   \n",
      "2  [{'observedTime': '2013-10-02T06:00Z', 'kpInde...   \n",
      "3  [{'observedTime': '2013-10-02T06:00Z', 'kpInde...   \n",
      "4  [{'observedTime': '2013-10-02T06:00Z', 'kpInde...   \n",
      "\n",
      "                                                link     submissionTime  \\\n",
      "0  https://webtools.ccmc.gsfc.nasa.gov/DONKI/view...  2013-07-15T19:26Z   \n",
      "1  https://webtools.ccmc.gsfc.nasa.gov/DONKI/view...  2013-07-15T19:41Z   \n",
      "2  https://webtools.ccmc.gsfc.nasa.gov/DONKI/view...  2013-10-02T13:23Z   \n",
      "3  https://webtools.ccmc.gsfc.nasa.gov/DONKI/view...  2013-10-02T13:23Z   \n",
      "4  https://webtools.ccmc.gsfc.nasa.gov/DONKI/view...  2013-10-02T13:23Z   \n",
      "\n",
      "   versionId               CME_ActivityID  \n",
      "0          1  2013-05-31T15:45:00-HSS-001  \n",
      "1          1  2013-06-02T20:24:00-CME-001  \n",
      "2          1  2013-09-29T22:40:00-CME-001  \n",
      "3          1  2013-10-02T01:54:00-IPS-001  \n",
      "4          1  2013-10-02T02:47:00-MPC-001  \n"
     ]
    }
   ],
   "source": [
    "# Convert the 'CME_ActivityID' column to string format \n",
    "gst_exploded_df['CME_ActivityID'] = gst_exploded_df['CME_ActivityID'].astype(str)\n",
    "# Convert the 'gstID' column to string format \n",
    "gst_exploded_df['gstID'] = gst_exploded_df['gstID'].astype(str)\n",
    "# Convert startTime to datetime format  \n",
    "gst_exploded_df['startTime'] = pd.to_datetime(gst_exploded_df['startTime'])\n",
    "# Rename startTime to startTime_GST \n",
    "gst_exploded_df.rename(columns={'startTime': 'startTime_GST'}, inplace=True)\n",
    "# Drop linkedEvents\n",
    "gst_exploded_df.drop(columns=['linkedEvents'], inplace=True)\n",
    "# Verify that all steps were executed correctly\n",
    "print(gst_exploded_df.dtypes)  # Check the data types of the columns\n",
    "print(gst_exploded_df.head())   # Preview the first few rows to confirm changes"
   ]
  },
  {
   "cell_type": "code",
   "execution_count": 67,
   "metadata": {},
   "outputs": [
    {
     "name": "stdout",
     "output_type": "stream",
     "text": [
      "Number of rows after filtering for CMEs: 61\n",
      "                         gstID             startTime_GST  \\\n",
      "1  2013-06-07T03:00:00-GST-001 2013-06-07 03:00:00+00:00   \n",
      "2  2013-10-02T03:00:00-GST-001 2013-10-02 03:00:00+00:00   \n",
      "5  2013-12-08T00:00:00-GST-001 2013-12-08 00:00:00+00:00   \n",
      "7  2014-02-19T03:00:00-GST-001 2014-02-19 03:00:00+00:00   \n",
      "9  2014-02-20T03:00:00-GST-001 2014-02-20 03:00:00+00:00   \n",
      "\n",
      "                                          allKpIndex  \\\n",
      "1  [{'observedTime': '2013-06-07T03:00Z', 'kpInde...   \n",
      "2  [{'observedTime': '2013-10-02T06:00Z', 'kpInde...   \n",
      "5  [{'observedTime': '2013-12-08T03:00Z', 'kpInde...   \n",
      "7  [{'observedTime': '2014-02-19T06:00Z', 'kpInde...   \n",
      "9  [{'observedTime': '2014-02-20T06:00Z', 'kpInde...   \n",
      "\n",
      "                                                link     submissionTime  \\\n",
      "1  https://webtools.ccmc.gsfc.nasa.gov/DONKI/view...  2013-07-15T19:41Z   \n",
      "2  https://webtools.ccmc.gsfc.nasa.gov/DONKI/view...  2013-10-02T13:23Z   \n",
      "5  https://webtools.ccmc.gsfc.nasa.gov/DONKI/view...  2013-12-08T03:42Z   \n",
      "7  https://webtools.ccmc.gsfc.nasa.gov/DONKI/view...  2014-03-18T23:25Z   \n",
      "9  https://webtools.ccmc.gsfc.nasa.gov/DONKI/view...  2014-03-19T20:13Z   \n",
      "\n",
      "   versionId               CME_ActivityID  \n",
      "1          1  2013-06-02T20:24:00-CME-001  \n",
      "2          1  2013-09-29T22:40:00-CME-001  \n",
      "5          1  2013-12-04T23:12:00-CME-001  \n",
      "7          1  2014-02-16T14:15:00-CME-001  \n",
      "9          2  2014-02-18T01:25:00-CME-001  \n"
     ]
    }
   ],
   "source": [
    "# We are only interested in GSTs related to CMEs so keep only rows where the CME_ActivityID column contains 'CME'\n",
    "# use the method 'contains()' from the str library.  \n",
    "# Filter the DataFrame to keep only rows where 'CME_ActivityID' contains 'CME'\n",
    "gst_filtered_df = gst_exploded_df[gst_exploded_df['CME_ActivityID'].str.contains('CME', na=False)]\n",
    "\n",
    "# Optionally, print the shape of the filtered DataFrame to see how many rows are left\n",
    "print(\"Number of rows after filtering for CMEs:\", gst_filtered_df.shape[0])\n",
    "\n",
    "# Preview the first few rows of the filtered DataFrame\n",
    "print(gst_filtered_df.head())"
   ]
  },
  {
   "cell_type": "markdown",
   "metadata": {},
   "source": [
    "### Merge both datatsets"
   ]
  },
  {
   "cell_type": "code",
   "execution_count": 68,
   "metadata": {},
   "outputs": [],
   "source": [
    "# Now merge both datasets using 'gstID' and 'CME_ActivityID' for gst and 'GST_ActivityID' and 'cmeID' for cme. Use the 'left_on' and 'right_on' specifiers.\n",
    "merged_df = pd.merge(\n",
    "    gst_filtered_df,\n",
    "    cme_filtered_df,\n",
    "    left_on='CME_ActivityID',  # Key from the GST DataFrame\n",
    "    right_on='GST_ActivityID',  # Key from the CME DataFrame\n",
    "    how='inner'  # Change this to 'left', 'right', or 'outer' if needed\n",
    ")\n"
   ]
  },
  {
   "cell_type": "code",
   "execution_count": 69,
   "metadata": {},
   "outputs": [
    {
     "name": "stdout",
     "output_type": "stream",
     "text": [
      "Number of rows in CME DataFrame: 61\n",
      "Number of rows in GST DataFrame: 61\n",
      "Number of rows in merged DataFrame: 0\n",
      "The merged DataFrame does NOT have the expected number of rows.\n"
     ]
    }
   ],
   "source": [
    "# Verify that the new DataFrame has the same number of rows as cme and gst\n",
    "cme_row_count = cme_filtered_df.shape[0]\n",
    "gst_row_count = gst_filtered_df.shape[0]\n",
    "merged_row_count = merged_df.shape[0]\n",
    "\n",
    "# Print the results\n",
    "print(\"Number of rows in CME DataFrame:\", cme_row_count)\n",
    "print(\"Number of rows in GST DataFrame:\", gst_row_count)\n",
    "print(\"Number of rows in merged DataFrame:\", merged_row_count)\n",
    "\n",
    "\n",
    "if merged_row_count == min(cme_row_count, gst_row_count):\n",
    "    print(\"The merged DataFrame has the expected number of rows.\")\n",
    "else:\n",
    "    print(\"The merged DataFrame does NOT have the expected number of rows.\")"
   ]
  },
  {
   "cell_type": "markdown",
   "metadata": {},
   "source": [
    "### Computing the time it takes for a CME to cause a GST"
   ]
  },
  {
   "cell_type": "code",
   "execution_count": 71,
   "metadata": {},
   "outputs": [],
   "source": [
    "#compute the time diff between startTime_GST and startTime_CME by creating a new colu# Cmn called `timeDiff`.\n",
    "merged_df['timeDiff'] = merged_df['startTime_GST'] - merged_df['startTime_CME']"
   ]
  },
  {
   "cell_type": "code",
   "execution_count": 73,
   "metadata": {},
   "outputs": [
    {
     "name": "stdout",
     "output_type": "stream",
     "text": [
      "Mean time difference (CME to GST): NaT\n",
      "Median time difference (CME to GST): NaT\n"
     ]
    }
   ],
   "source": [
    "# Use describe() to compute the mean and median time \n",
    "# that it takes for a CME to cause a GST. \n",
    "\n",
    "time_diff_stats = merged_df['timeDiff'].describe()\n",
    "\n",
    "# Extract the mean and median\n",
    "mean_time_diff = time_diff_stats['mean']\n",
    "median_time_diff = time_diff_stats['50%']  # The 50th percentile is the median\n",
    "\n",
    "# Print the results\n",
    "print(\"Mean time difference (CME to GST):\", mean_time_diff)\n",
    "print(\"Median time difference (CME to GST):\", median_time_diff)"
   ]
  },
  {
   "cell_type": "markdown",
   "metadata": {},
   "source": [
    "### Exporting data in csv format"
   ]
  },
  {
   "cell_type": "code",
   "execution_count": 74,
   "metadata": {},
   "outputs": [],
   "source": [
    "# Export data to CSV without the index\n",
    "merged_df.to_csv('cme_gst_data.csv', index=False)"
   ]
  }
 ],
 "metadata": {
  "kernelspec": {
   "display_name": "dev",
   "language": "python",
   "name": "python3"
  },
  "language_info": {
   "codemirror_mode": {
    "name": "ipython",
    "version": 3
   },
   "file_extension": ".py",
   "mimetype": "text/x-python",
   "name": "python",
   "nbconvert_exporter": "python",
   "pygments_lexer": "ipython3",
   "version": "3.10.15"
  },
  "varInspector": {
   "cols": {
    "lenName": 16,
    "lenType": 16,
    "lenVar": 40
   },
   "kernels_config": {
    "python": {
     "delete_cmd_postfix": "",
     "delete_cmd_prefix": "del ",
     "library": "var_list.py",
     "varRefreshCmd": "print(var_dic_list())"
    },
    "r": {
     "delete_cmd_postfix": ") ",
     "delete_cmd_prefix": "rm(",
     "library": "var_list.r",
     "varRefreshCmd": "cat(var_dic_list()) "
    }
   },
   "types_to_exclude": [
    "module",
    "function",
    "builtin_function_or_method",
    "instance",
    "_Feature"
   ],
   "window_display": false
  }
 },
 "nbformat": 4,
 "nbformat_minor": 4
}
